{
 "cells": [
  {
   "cell_type": "code",
   "execution_count": 6,
   "metadata": {},
   "outputs": [],
   "source": [
    "import sys, os\n",
    "import datetime\n",
    "import logging\n",
    "import matplotlib.pyplot as plt\n",
    "from matplotlib import dates, rcParams\n",
    "import pandas as pd\n",
    "from pandas.plotting import register_matplotlib_converters\n",
    "register_matplotlib_converters()"
   ]
  },
  {
   "cell_type": "code",
   "execution_count": 7,
   "metadata": {},
   "outputs": [],
   "source": [
    "def read_data():\n",
    "    df = pd.io.parsers.read_csv(\n",
    "        'speedtest.log',\n",
    "        names='date time ping download upload'.split(),\n",
    "        header=None,\n",
    "        sep=r'\\s+',\n",
    "        parse_dates={'timestamp':[0,1]},\n",
    "        na_values=['TEST','FAILED'])\n",
    "    for col in 'ping download upload'.split():\n",
    "        df[col] = df[col].fillna(0.0)\n",
    "    # print(df)\n",
    "    # records every 10 min, or 6/hr, or 6*24=144/day\n",
    "    Nrows = 5*144  # 5 days\n",
    "    return df[-Nrows:].copy() # return dots for last Nrows only"
   ]
  },
  {
   "cell_type": "code",
   "execution_count": 8,
   "metadata": {},
   "outputs": [],
   "source": [
    "def make_plot(plt, df, row_index=1, nhours=2):\n",
    "    # ---------------------------------\n",
    "    # select last \"nhours\" of data\n",
    "    index_max = df.index[-1]\n",
    "    dtmax = df.loc[index_max,'timestamp']\n",
    "    dtmin = dtmax - datetime.timedelta(hours=nhours)\n",
    "\n",
    "    mask = df['timestamp'] > dtmin\n",
    "    df = df.loc[mask,:].copy()\n",
    "    df.index = range(len(df))\n",
    "    # ---------------------------------\n",
    "    # subplot(nrows, ncols, index, **kwargs)\n",
    "    plt.subplot(3, 1, row_index)\n",
    "    plt.plot(df['timestamp'],df['download'], 'b-')\n",
    "    plt.title('Internet Speed (Download in Mbps)')\n",
    "    plt.ylabel('Bandwidth in MBps')\n",
    "    y_range = 1.2*df.download.max()\n",
    "    plt.ylim(0.0,y_range)\n",
    "    plt.xlabel('Date/Time')\n",
    "    plt.xticks(rotation='45', ha='right')\n",
    "    # ---------------------------------\n",
    "    ax = plt.gca()\n",
    "    fg = plt.gcf()\n",
    "\n",
    "    start = df.loc[0,'timestamp']\n",
    "    end   = df.loc[df.index[-1],'timestamp']\n",
    "    delta = (end-start)/11.0\n",
    "    arr = [start]\n",
    "    for ii in range(12):\n",
    "        val = arr[-1]\n",
    "        arr += [val+delta]\n",
    "\n",
    "    ax.xaxis.set_ticks(arr)\n",
    "    h_fmt = dates.DateFormatter('%m/%d %H:%M')\n",
    "    ax.xaxis.set_major_formatter(h_fmt)\n",
    "    # ---------------------------------\n",
    "    ax.xaxis.set_tick_params(labelsize=9)\n",
    "    ax.yaxis.set_tick_params(labelsize=9)\n",
    "\n",
    "    fg.subplots_adjust(bottom=.25)\n",
    "    plt.grid();"
   ]
  },
  {
   "cell_type": "code",
   "execution_count": 9,
   "metadata": {},
   "outputs": [],
   "source": [
    "df = read_data()"
   ]
  },
  {
   "cell_type": "code",
   "execution_count": 10,
   "metadata": {},
   "outputs": [
    {
     "data": {
      "image/png": "[encoded data removed]",
      "text/plain": [
       "<Figure size 720x360 with 2 Axes>"
      ]
     },
     "metadata": {
      "needs_background": "light"
     },
     "output_type": "display_data"
    }
   ],
   "source": [
    "w = 10\n",
    "h = 5\n",
    "rcParams['figure.figsize'] = w, h\n",
    "plt.gcf().clear()\n",
    "make_plot(plt, df.copy(), row_index=1, nhours=10*24)\n",
    "make_plot(plt, df.copy(), row_index=3, nhours=2   )\n",
    "plt.show()"
   ]
  },
  {
   "cell_type": "code",
   "execution_count": null,
   "metadata": {},
   "outputs": [],
   "source": []
  }
 ],
 "metadata": {
  "kernelspec": {
   "display_name": "Python 3",
   "language": "python",
   "name": "python3"
  },
  "language_info": {
   "codemirror_mode": {
    "name": "ipython",
    "version": 3
   },
   "file_extension": ".py",
   "mimetype": "text/x-python",
   "name": "python",
   "nbconvert_exporter": "python",
   "pygments_lexer": "ipython3",
   "version": "3.7.3"
  }
 },
 "nbformat": 4,
 "nbformat_minor": 2
}
