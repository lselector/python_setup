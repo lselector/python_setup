{
 "cells": [
  {
   "cell_type": "code",
   "execution_count": null,
   "metadata": {},
   "outputs": [],
   "source": [
    "import sys, os\n",
    "import datetime\n",
    "import logging\n",
    "import matplotlib.pyplot as plt\n",
    "from matplotlib import dates, rcParams\n",
    "import pandas as pd\n",
    "from pandas.plotting import register_matplotlib_converters\n",
    "register_matplotlib_converters()"
   ]
  },
  {
   "cell_type": "code",
   "execution_count": null,
   "metadata": {},
   "outputs": [],
   "source": [
    "def read_data():\n",
    "    df = pd.io.parsers.read_csv(\n",
    "        'speedtest.log',\n",
    "        names='date time ping download upload'.split(),\n",
    "        header=None,\n",
    "        sep=r'\\s+',\n",
    "        parse_dates={'timestamp':[0,1]},\n",
    "        na_values=['TEST','FAILED'])\n",
    "    for col in 'ping download upload'.split():\n",
    "        df[col] = df[col].fillna(0.0)\n",
    "    # print(df)\n",
    "    # records every 10 min, or 6/hr, or 6*24=144/day\n",
    "    Nrows = 5*144  # 5 days = 720 rows\n",
    "    return df[-Nrows:].copy() # return dots for last Nrows only"
   ]
  },
  {
   "cell_type": "code",
   "execution_count": null,
   "metadata": {},
   "outputs": [],
   "source": [
    "def make_plot(plt, df, row_index=1, nhours=2):\n",
    "    # ---------------------------------\n",
    "    # select last \"nhours\" of data\n",
    "    index_max = df.index[-1]\n",
    "    dtmax = df.loc[index_max,'timestamp']\n",
    "    dtmin = dtmax - datetime.timedelta(hours=nhours)\n",
    "\n",
    "    mask = df['timestamp'] > dtmin\n",
    "    df = df.loc[mask,:].copy()\n",
    "    df.index = range(len(df))\n",
    "    # ---------------------------------\n",
    "    # create array of horizontal times\n",
    "    start = df.loc[0,'timestamp']\n",
    "    end   = df.loc[df.index[-1],'timestamp']\n",
    "    delta = (end-start)/11.0\n",
    "    arr_ts = [start]\n",
    "    for ii in range(12):\n",
    "        val = arr_ts[-1]      # last element\n",
    "        arr_ts += [val+delta] # add shifted by delta\n",
    "    # ---------------------------------\n",
    "    # plot on 1st or 3rd row of subplot\n",
    "    # subplot(nrows, ncols, row_index, **kwargs)\n",
    "    plt.subplot(3, 1, row_index)\n",
    "    plt.plot(df['timestamp'],df['download'], 'b-')\n",
    "    # ---------------------------------\n",
    "    plt.title('Internet Speed (Download in Mbps)')\n",
    "    plt.ylabel('Bandwidth in MBps')\n",
    "    y_range = 1.2*df.download.max()\n",
    "    plt.ylim(0.0,y_range)\n",
    "    plt.xlabel('Date/Time')\n",
    "    plt.xticks(rotation='45', ha='right')\n",
    "    # ---------------------------------\n",
    "    ax = plt.gca()    # get current Axes\n",
    "    fg = plt.gcf()    # get current fugure\n",
    "    # ---------------------------------\n",
    "    # set horizontal time ticks\n",
    "    ax.xaxis.set_ticks(arr_ts)\n",
    "    h_fmt = dates.DateFormatter('%m/%d %H:%M')\n",
    "    ax.xaxis.set_major_formatter(h_fmt)\n",
    "    # ---------------------------------\n",
    "    ax.xaxis.set_tick_params(labelsize=9)\n",
    "    ax.yaxis.set_tick_params(labelsize=9)\n",
    "\n",
    "    fg.subplots_adjust(bottom=.25)\n",
    "    plt.grid();"
   ]
  },
  {
   "cell_type": "code",
   "execution_count": null,
   "metadata": {},
   "outputs": [],
   "source": [
    "df = read_data()\n",
    "df2 = df[-10:]\n",
    "df2.index = range(len(df2))\n",
    "N1 = len(df2)\n",
    "N_add = 720-N1\n",
    "\n",
    "# need to prepend some zero values at 10-min intervals\n",
    "# take last available timestamp\n",
    "t_last = df2.at[0,'timestamp']\n",
    "print(t_last)"
   ]
  },
  {
   "cell_type": "code",
   "execution_count": null,
   "metadata": {},
   "outputs": [],
   "source": [
    "arr = []\n",
    "for ii in range(10):\n",
    "    t_last = t_last - datetime.timedelta(minutes=10)\n",
    "    arr += [t_last]\n",
    "arr = arr[::-1]\n",
    "arr2 = [0.0]*len(arr)\n",
    "df3 = pd.DataFrame(data = {\n",
    "    \"timestamp\":arr, \"ping\":arr2,\n",
    "    \"download\":arr2, \"upload\":arr2},\n",
    "    columns = [\"timestamp\",\"ping\",\"download\",\"upload\"])\n",
    "df4 = df3.append(df2, ignore_index=True)\n",
    "display(df4)"
   ]
  },
  {
   "cell_type": "code",
   "execution_count": null,
   "metadata": {},
   "outputs": [],
   "source": [
    "    \n",
    "    \n",
    "    \n",
    "df2.dtypes\n",
    "datetime64"
   ]
  },
  {
   "cell_type": "code",
   "execution_count": null,
   "metadata": {},
   "outputs": [],
   "source": [
    "df = read_data()\n",
    "print(f\"length={len(df)}\")\n",
    "display(df.head())\n",
    "display(df.tail())"
   ]
  },
  {
   "cell_type": "code",
   "execution_count": null,
   "metadata": {},
   "outputs": [],
   "source": [
    "w = 10  # width\n",
    "h = 5   # height\n",
    "rcParams['figure.figsize'] = w, h\n",
    "plt.gcf().clear()   # get current matplotlib figure - and clear\n",
    "make_plot(plt, df.copy(), row_index=1, nhours=10*24)\n",
    "make_plot(plt, df.copy(), row_index=3, nhours=2   )\n",
    "plt.show()"
   ]
  },
  {
   "cell_type": "code",
   "execution_count": null,
   "metadata": {},
   "outputs": [],
   "source": []
  }
 ],
 "metadata": {
  "kernelspec": {
   "display_name": "Python 3",
   "language": "python",
   "name": "python3"
  },
  "language_info": {
   "codemirror_mode": {
    "name": "ipython",
    "version": 3
   },
   "file_extension": ".py",
   "mimetype": "text/x-python",
   "name": "python",
   "nbconvert_exporter": "python",
   "pygments_lexer": "ipython3",
   "version": "3.8.3"
  }
 },
 "nbformat": 4,
 "nbformat_minor": 4
}
