{
 "cells": [
  {
   "cell_type": "code",
   "execution_count": 1,
   "metadata": {},
   "outputs": [],
   "source": [
    "import sys, os\n",
    "import datetime\n",
    "import logging\n",
    "import matplotlib.pyplot as plt\n",
    "from matplotlib import dates, rcParams\n",
    "import pandas as pd\n",
    "from pandas.plotting import register_matplotlib_converters\n",
    "register_matplotlib_converters()"
   ]
  },
  {
   "cell_type": "code",
   "execution_count": 2,
   "metadata": {},
   "outputs": [],
   "source": [
    "def read_data():\n",
    "    df = pd.io.parsers.read_csv(\n",
    "        'speedtest.log',\n",
    "        names='date time ping download upload'.split(),\n",
    "        header=None,\n",
    "        sep=r'\\s+',\n",
    "        parse_dates={'timestamp':[0,1]},\n",
    "        na_values=['TEST','FAILED'])\n",
    "    for col in 'ping download upload'.split():\n",
    "        df[col] = df[col].fillna(0.0)\n",
    "    # print(df)\n",
    "    # records every 10 min, or 6/hr, or 6*24=144/day\n",
    "    Nrows = 5*144  # 5 days = 720 rows\n",
    "    return df[-Nrows:].copy() # return dots for last Nrows only"
   ]
  },
  {
   "cell_type": "code",
   "execution_count": 3,
   "metadata": {},
   "outputs": [],
   "source": [
    "def make_plot(plt, df, row_index=1, nhours=2):\n",
    "    # ---------------------------------\n",
    "    # select last \"nhours\" of data\n",
    "    index_max = df.index[-1]\n",
    "    dtmax = df.loc[index_max,'timestamp']\n",
    "    dtmin = dtmax - datetime.timedelta(hours=nhours)\n",
    "\n",
    "    mask = df['timestamp'] > dtmin\n",
    "    df = df.loc[mask,:].copy()\n",
    "    df.index = range(len(df))\n",
    "    # ---------------------------------\n",
    "    # create array of horizontal times\n",
    "    start = df.loc[0,'timestamp']\n",
    "    end   = df.loc[df.index[-1],'timestamp']\n",
    "    delta = (end-start)/11.0\n",
    "    arr_ts = [start]\n",
    "    for ii in range(12):\n",
    "        val = arr_ts[-1]      # last element\n",
    "        arr_ts += [val+delta] # add shifted by delta\n",
    "    # ---------------------------------\n",
    "    # plot on 1st or 3rd row of subplot\n",
    "    # subplot(nrows, ncols, row_index, **kwargs)\n",
    "    plt.subplot(3, 1, row_index)\n",
    "    plt.plot(df['timestamp'],df['download'], 'b-')\n",
    "    # ---------------------------------\n",
    "    plt.title('Internet Speed (Download in Mbps)')\n",
    "    plt.ylabel('Bandwidth in MBps')\n",
    "    y_range = 1.2*df.download.max()\n",
    "    plt.ylim(0.0,y_range)\n",
    "    plt.xlabel('Date/Time')\n",
    "    plt.xticks(rotation='45', ha='right')\n",
    "    # ---------------------------------\n",
    "    ax = plt.gca()    # get current Axes\n",
    "    fg = plt.gcf()    # get current fugure\n",
    "    # ---------------------------------\n",
    "    # set horizontal time ticks\n",
    "    ax.xaxis.set_ticks(arr_ts)\n",
    "    h_fmt = dates.DateFormatter('%m/%d %H:%M')\n",
    "    ax.xaxis.set_major_formatter(h_fmt)\n",
    "    # ---------------------------------\n",
    "    ax.xaxis.set_tick_params(labelsize=9)\n",
    "    ax.yaxis.set_tick_params(labelsize=9)\n",
    "\n",
    "    fg.subplots_adjust(bottom=.25)\n",
    "    plt.grid();"
   ]
  },
  {
   "cell_type": "code",
   "execution_count": 4,
   "metadata": {},
   "outputs": [
    {
     "name": "stdout",
     "output_type": "stream",
     "text": [
      "length=720\n"
     ]
    },
    {
     "data": {
      "text/html": [
       "<div>\n",
       "<style scoped>\n",
       "    .dataframe tbody tr th:only-of-type {\n",
       "        vertical-align: middle;\n",
       "    }\n",
       "\n",
       "    .dataframe tbody tr th {\n",
       "        vertical-align: top;\n",
       "    }\n",
       "\n",
       "    .dataframe thead th {\n",
       "        text-align: right;\n",
       "    }\n",
       "</style>\n",
       "<table border=\"1\" class=\"dataframe\">\n",
       "  <thead>\n",
       "    <tr style=\"text-align: right;\">\n",
       "      <th></th>\n",
       "      <th>timestamp</th>\n",
       "      <th>ping</th>\n",
       "      <th>download</th>\n",
       "      <th>upload</th>\n",
       "    </tr>\n",
       "  </thead>\n",
       "  <tbody>\n",
       "    <tr>\n",
       "      <th>7256</th>\n",
       "      <td>2020-04-26 12:30:00</td>\n",
       "      <td>27.3</td>\n",
       "      <td>127.7</td>\n",
       "      <td>2.6</td>\n",
       "    </tr>\n",
       "    <tr>\n",
       "      <th>7257</th>\n",
       "      <td>2020-04-26 12:40:00</td>\n",
       "      <td>28.4</td>\n",
       "      <td>141.0</td>\n",
       "      <td>2.7</td>\n",
       "    </tr>\n",
       "    <tr>\n",
       "      <th>7258</th>\n",
       "      <td>2020-04-26 12:50:00</td>\n",
       "      <td>22.5</td>\n",
       "      <td>114.1</td>\n",
       "      <td>2.7</td>\n",
       "    </tr>\n",
       "    <tr>\n",
       "      <th>7259</th>\n",
       "      <td>2020-04-26 13:00:00</td>\n",
       "      <td>25.4</td>\n",
       "      <td>106.7</td>\n",
       "      <td>2.6</td>\n",
       "    </tr>\n",
       "    <tr>\n",
       "      <th>7260</th>\n",
       "      <td>2020-04-26 13:10:00</td>\n",
       "      <td>31.2</td>\n",
       "      <td>90.8</td>\n",
       "      <td>2.7</td>\n",
       "    </tr>\n",
       "  </tbody>\n",
       "</table>\n",
       "</div>"
      ],
      "text/plain": [
       "               timestamp  ping  download  upload\n",
       "7256 2020-04-26 12:30:00  27.3     127.7     2.6\n",
       "7257 2020-04-26 12:40:00  28.4     141.0     2.7\n",
       "7258 2020-04-26 12:50:00  22.5     114.1     2.7\n",
       "7259 2020-04-26 13:00:00  25.4     106.7     2.6\n",
       "7260 2020-04-26 13:10:00  31.2      90.8     2.7"
      ]
     },
     "metadata": {},
     "output_type": "display_data"
    },
    {
     "data": {
      "text/html": [
       "<div>\n",
       "<style scoped>\n",
       "    .dataframe tbody tr th:only-of-type {\n",
       "        vertical-align: middle;\n",
       "    }\n",
       "\n",
       "    .dataframe tbody tr th {\n",
       "        vertical-align: top;\n",
       "    }\n",
       "\n",
       "    .dataframe thead th {\n",
       "        text-align: right;\n",
       "    }\n",
       "</style>\n",
       "<table border=\"1\" class=\"dataframe\">\n",
       "  <thead>\n",
       "    <tr style=\"text-align: right;\">\n",
       "      <th></th>\n",
       "      <th>timestamp</th>\n",
       "      <th>ping</th>\n",
       "      <th>download</th>\n",
       "      <th>upload</th>\n",
       "    </tr>\n",
       "  </thead>\n",
       "  <tbody>\n",
       "    <tr>\n",
       "      <th>7971</th>\n",
       "      <td>2020-05-04 13:00:00</td>\n",
       "      <td>22.3</td>\n",
       "      <td>111.5</td>\n",
       "      <td>2.4</td>\n",
       "    </tr>\n",
       "    <tr>\n",
       "      <th>7972</th>\n",
       "      <td>2020-05-04 13:10:00</td>\n",
       "      <td>19.5</td>\n",
       "      <td>114.6</td>\n",
       "      <td>2.4</td>\n",
       "    </tr>\n",
       "    <tr>\n",
       "      <th>7973</th>\n",
       "      <td>2020-05-04 13:20:00</td>\n",
       "      <td>26.1</td>\n",
       "      <td>106.9</td>\n",
       "      <td>2.6</td>\n",
       "    </tr>\n",
       "    <tr>\n",
       "      <th>7974</th>\n",
       "      <td>2020-05-04 13:30:00</td>\n",
       "      <td>20.7</td>\n",
       "      <td>96.7</td>\n",
       "      <td>2.3</td>\n",
       "    </tr>\n",
       "    <tr>\n",
       "      <th>7975</th>\n",
       "      <td>2020-05-04 13:40:00</td>\n",
       "      <td>21.7</td>\n",
       "      <td>90.2</td>\n",
       "      <td>2.6</td>\n",
       "    </tr>\n",
       "  </tbody>\n",
       "</table>\n",
       "</div>"
      ],
      "text/plain": [
       "               timestamp  ping  download  upload\n",
       "7971 2020-05-04 13:00:00  22.3     111.5     2.4\n",
       "7972 2020-05-04 13:10:00  19.5     114.6     2.4\n",
       "7973 2020-05-04 13:20:00  26.1     106.9     2.6\n",
       "7974 2020-05-04 13:30:00  20.7      96.7     2.3\n",
       "7975 2020-05-04 13:40:00  21.7      90.2     2.6"
      ]
     },
     "metadata": {},
     "output_type": "display_data"
    }
   ],
   "source": [
    "df = read_data()\n",
    "print(f\"length={len(df)}\")\n",
    "display(df.head())\n",
    "display(df.tail())"
   ]
  },
  {
   "cell_type": "code",
   "execution_count": 5,
   "metadata": {},
   "outputs": [
    {
     "data": {
      "image/png": "[encoded data removed]",
      "text/plain": [
       "<Figure size 720x360 with 2 Axes>"
      ]
     },
     "metadata": {
      "needs_background": "light"
     },
     "output_type": "display_data"
    }
   ],
   "source": [
    "w = 10  # width\n",
    "h = 5   # height\n",
    "rcParams['figure.figsize'] = w, h\n",
    "plt.gcf().clear()   # get current matplotlib figure - and clear\n",
    "make_plot(plt, df.copy(), row_index=1, nhours=10*24)\n",
    "make_plot(plt, df.copy(), row_index=3, nhours=2   )\n",
    "plt.show()"
   ]
  },
  {
   "cell_type": "code",
   "execution_count": null,
   "metadata": {},
   "outputs": [],
   "source": []
  }
 ],
 "metadata": {
  "kernelspec": {
   "display_name": "Python 3",
   "language": "python",
   "name": "python3"
  },
  "language_info": {
   "codemirror_mode": {
    "name": "ipython",
    "version": 3
   },
   "file_extension": ".py",
   "mimetype": "text/x-python",
   "name": "python",
   "nbconvert_exporter": "python",
   "pygments_lexer": "ipython3",
   "version": "3.7.3"
  }
 },
 "nbformat": 4,
 "nbformat_minor": 4
}
